{
 "cells": [
  {
   "cell_type": "code",
   "execution_count": 1,
   "metadata": {},
   "outputs": [
    {
     "name": "stderr",
     "output_type": "stream",
     "text": [
      "/home/laura/Pruebas/NYC Taxi ETL/env/lib/python3.9/site-packages/google/auth/_default.py:78: UserWarning: Your application has authenticated using end user credentials from Google Cloud SDK without a quota project. You might receive a \"quota exceeded\" or \"API not enabled\" error. See the following page for troubleshooting: https://cloud.google.com/docs/authentication/adc-troubleshooting/user-creds. \n",
      "  warnings.warn(_CLOUD_SDK_CREDENTIALS_WARNING)\n",
      "/home/laura/Pruebas/NYC Taxi ETL/env/lib/python3.9/site-packages/google/auth/_default.py:78: UserWarning: Your application has authenticated using end user credentials from Google Cloud SDK without a quota project. You might receive a \"quota exceeded\" or \"API not enabled\" error. See the following page for troubleshooting: https://cloud.google.com/docs/authentication/adc-troubleshooting/user-creds. \n",
      "  warnings.warn(_CLOUD_SDK_CREDENTIALS_WARNING)\n"
     ]
    }
   ],
   "source": [
    "import os\n",
    "import zipfile\n",
    "\n",
    "import pandas as pd\n",
    "import geopandas as gpd\n",
    "import numpy as np\n",
    "\n",
    "import matplotlib.pyplot as plt\n",
    "import contextily as cx\n",
    "\n",
    "from dotenv import dotenv_values\n",
    "from pprint import pprint\n",
    "from google.cloud import storage\n",
    "\n",
    "from keys.KEYS import *\n",
    "\n",
    "\n",
    "CONFIG = dotenv_values(\"config.env\")\n",
    "GCP_ST_CLIENT = storage.Client()\n",
    "\n",
    "LOCAL_ST = os.path.join(os.getcwd(), 'sample_data')\n"
   ]
  },
  {
   "attachments": {},
   "cell_type": "markdown",
   "metadata": {},
   "source": [
    "· CLOUD SETUP: working with google cloud\n",
    "\n",
    "We are using tempprary credentials from Qwiklabs; \n",
    "each 2h of use we need to fetch new one and restablish connection:\n",
    "\n",
    "```\n",
    "gcloud init\n",
    "gcloud auth application-default login\n",
    "```"
   ]
  },
  {
   "cell_type": "code",
   "execution_count": null,
   "metadata": {},
   "outputs": [],
   "source": [
    "\n",
    "for blob in GCP_ST_CLIENT.list_blobs('data_eng_test'):\n",
    "    print(blob)"
   ]
  },
  {
   "cell_type": "code",
   "execution_count": 19,
   "metadata": {},
   "outputs": [
    {
     "name": "stdout",
     "output_type": "stream",
     "text": [
      "NUM FILES : 0\n"
     ]
    },
    {
     "data": {
      "text/plain": [
       "{'data_dictionary_trip_records_yellow.pdf': nan,\n",
       " 'yellow_tripdata_2015-01_00.csv.zip': 1,\n",
       " 'yellow_tripdata_2015-01_01.csv.zip': 1,\n",
       " 'yellow_tripdata_2015-01_02.csv.zip': 1,\n",
       " 'yellow_tripdata_2015-01_03.csv.zip': 1,\n",
       " 'yellow_tripdata_2015-01_04.csv.zip': 1,\n",
       " 'yellow_tripdata_2015-01_05.csv.zip': 1,\n",
       " 'yellow_tripdata_2015-01_06.csv.zip': 1,\n",
       " 'yellow_tripdata_2015-01_07.csv.zip': 1,\n",
       " 'yellow_tripdata_2015-01_08.csv.zip': 1,\n",
       " 'yellow_tripdata_2015-01_09.csv.zip': 1,\n",
       " 'yellow_tripdata_2015-01_10.csv.zip': 1,\n",
       " 'yellow_tripdata_2015-01_11.csv.zip': 1,\n",
       " 'yellow_tripdata_2015-01_12.csv.zip': 1,\n",
       " 'yellow_tripdata_2015-01_13.csv.zip': 1,\n",
       " 'yellow_tripdata_2015-01_14.csv.zip': 1,\n",
       " 'yellow_tripdata_2015-01_15.csv.zip': 1,\n",
       " 'yellow_tripdata_2015-01_16.csv.zip': 1,\n",
       " 'yellow_tripdata_2015-01_17.csv.zip': 1,\n",
       " 'yellow_tripdata_2015-01_18.csv.zip': 1}"
      ]
     },
     "execution_count": 19,
     "metadata": {},
     "output_type": "execute_result"
    }
   ],
   "source": [
    "# !gcloud storage ls --recursive gs://data_eng_test/\n",
    "import io\n",
    "c = 0\n",
    "d = {}\n",
    "print(f\"NUM FILES : {GCP_ST_CLIENT.list_blobs('data_eng_test').num_results}\")\n",
    "\n",
    "for blob in GCP_ST_CLIENT.list_blobs('data_eng_test'):\n",
    "    c += 1\n",
    "    d[blob.name] = np.nan\n",
    "\n",
    "    if blob.name.endswith('zip'):\n",
    "        zbytes = io.BytesIO(blob.download_as_string())\n",
    "\n",
    "        if zipfile.is_zipfile(zbytes):\n",
    "            with zipfile.ZipFile(zbytes, 'r') as z:\n",
    "                d[blob.name] = len(z.namelist())\n",
    "                \n",
    "    if c == 2:\n",
    "        break\n",
    "d\n",
    "    "
   ]
  },
  {
   "attachments": {},
   "cell_type": "markdown",
   "metadata": {},
   "source": [
    "Let's download the pdf and a portion of the files to see the head:"
   ]
  },
  {
   "cell_type": "code",
   "execution_count": 38,
   "metadata": {},
   "outputs": [],
   "source": [
    "# _blobs = {\n",
    "#     'pdf': 'data_dictionary_trip_records_yellow.pdf',\n",
    "#     'csv' : 'yellow_tripdata_2015-01_00.csv.zip'\n",
    "# }\n",
    "\n",
    "constr = 'yellow_tripdata_2015-04_{part}.csv.zip'\n",
    "_blobs = list(map(lambda n: constr.format(part=str(n).zfill(2)), range(23)))\n",
    "\n",
    "\n",
    "bucket = GCP_ST_CLIENT.bucket(CONFIG['BUCKET_NAME'])\n",
    "\n",
    "for blob_name in _blobs:\n",
    "    download_path = os.path.join(LOCAL_ST, blob_name)\n",
    "\n",
    "    if not os.path.exists(download_path):\n",
    "        bucket.blob(blob_name).download_to_filename(download_path)\n",
    "    "
   ]
  },
  {
   "cell_type": "code",
   "execution_count": 30,
   "metadata": {},
   "outputs": [
    {
     "data": {
      "text/plain": [
       "'yellow_tripdata_2015-2_1'"
      ]
     },
     "execution_count": 30,
     "metadata": {},
     "output_type": "execute_result"
    }
   ],
   "source": [
    "from datetime import datetime\n",
    "\n",
    "SOURCE_NAME = 'yellow_tripdata'\n",
    "NOWUTC = datetime.utcnow().replace(year=2015, month=2)  \n",
    "SOURCE_CONSTR = \"{base_name}_{year}-{month}_{part}\"\n",
    "\n",
    "SOURCE_CONSTR.format(\n",
    "    base_name = SOURCE_NAME,\n",
    "    year = NOWUTC.year,\n",
    "    month = NOWUTC.month,\n",
    "    part = 1\n",
    ")\n"
   ]
  },
  {
   "attachments": {},
   "cell_type": "markdown",
   "metadata": {},
   "source": [
    "Lets see a bit the data: "
   ]
  },
  {
   "cell_type": "code",
   "execution_count": 22,
   "metadata": {},
   "outputs": [
    {
     "name": "stdout",
     "output_type": "stream",
     "text": [
      "(499999, 19)\n"
     ]
    },
    {
     "data": {
      "text/html": [
       "<div>\n",
       "<style scoped>\n",
       "    .dataframe tbody tr th:only-of-type {\n",
       "        vertical-align: middle;\n",
       "    }\n",
       "\n",
       "    .dataframe tbody tr th {\n",
       "        vertical-align: top;\n",
       "    }\n",
       "\n",
       "    .dataframe thead th {\n",
       "        text-align: right;\n",
       "    }\n",
       "</style>\n",
       "<table border=\"1\" class=\"dataframe\">\n",
       "  <thead>\n",
       "    <tr style=\"text-align: right;\">\n",
       "      <th></th>\n",
       "      <th>VendorID</th>\n",
       "      <th>tpep_pickup_datetime</th>\n",
       "      <th>tpep_dropoff_datetime</th>\n",
       "      <th>passenger_count</th>\n",
       "      <th>trip_distance</th>\n",
       "      <th>pickup_longitude</th>\n",
       "      <th>pickup_latitude</th>\n",
       "      <th>RateCodeID</th>\n",
       "      <th>store_and_fwd_flag</th>\n",
       "      <th>dropoff_longitude</th>\n",
       "      <th>dropoff_latitude</th>\n",
       "      <th>payment_type</th>\n",
       "      <th>fare_amount</th>\n",
       "      <th>extra</th>\n",
       "      <th>mta_tax</th>\n",
       "      <th>tip_amount</th>\n",
       "      <th>tolls_amount</th>\n",
       "      <th>improvement_surcharge</th>\n",
       "      <th>total_amount</th>\n",
       "    </tr>\n",
       "  </thead>\n",
       "  <tbody>\n",
       "    <tr>\n",
       "      <th>0</th>\n",
       "      <td>2</td>\n",
       "      <td>2015-01-15 19:05:39</td>\n",
       "      <td>2015-01-15 19:23:42</td>\n",
       "      <td>1</td>\n",
       "      <td>1.59</td>\n",
       "      <td>-73.993896</td>\n",
       "      <td>40.750111</td>\n",
       "      <td>1</td>\n",
       "      <td>N</td>\n",
       "      <td>-73.974785</td>\n",
       "      <td>40.750618</td>\n",
       "      <td>1</td>\n",
       "      <td>12.0</td>\n",
       "      <td>1.0</td>\n",
       "      <td>0.5</td>\n",
       "      <td>3.25</td>\n",
       "      <td>0.0</td>\n",
       "      <td>0.3</td>\n",
       "      <td>17.05</td>\n",
       "    </tr>\n",
       "    <tr>\n",
       "      <th>1</th>\n",
       "      <td>1</td>\n",
       "      <td>2015-01-10 20:33:38</td>\n",
       "      <td>2015-01-10 20:53:28</td>\n",
       "      <td>1</td>\n",
       "      <td>3.30</td>\n",
       "      <td>-74.001648</td>\n",
       "      <td>40.724243</td>\n",
       "      <td>1</td>\n",
       "      <td>N</td>\n",
       "      <td>-73.994415</td>\n",
       "      <td>40.759109</td>\n",
       "      <td>1</td>\n",
       "      <td>14.5</td>\n",
       "      <td>0.5</td>\n",
       "      <td>0.5</td>\n",
       "      <td>2.00</td>\n",
       "      <td>0.0</td>\n",
       "      <td>0.3</td>\n",
       "      <td>17.80</td>\n",
       "    </tr>\n",
       "    <tr>\n",
       "      <th>2</th>\n",
       "      <td>1</td>\n",
       "      <td>2015-01-10 20:33:38</td>\n",
       "      <td>2015-01-10 20:43:41</td>\n",
       "      <td>1</td>\n",
       "      <td>1.80</td>\n",
       "      <td>-73.963341</td>\n",
       "      <td>40.802788</td>\n",
       "      <td>1</td>\n",
       "      <td>N</td>\n",
       "      <td>-73.951820</td>\n",
       "      <td>40.824413</td>\n",
       "      <td>2</td>\n",
       "      <td>9.5</td>\n",
       "      <td>0.5</td>\n",
       "      <td>0.5</td>\n",
       "      <td>0.00</td>\n",
       "      <td>0.0</td>\n",
       "      <td>0.3</td>\n",
       "      <td>10.80</td>\n",
       "    </tr>\n",
       "    <tr>\n",
       "      <th>3</th>\n",
       "      <td>1</td>\n",
       "      <td>2015-01-10 20:33:39</td>\n",
       "      <td>2015-01-10 20:35:31</td>\n",
       "      <td>1</td>\n",
       "      <td>0.50</td>\n",
       "      <td>-74.009087</td>\n",
       "      <td>40.713818</td>\n",
       "      <td>1</td>\n",
       "      <td>N</td>\n",
       "      <td>-74.004326</td>\n",
       "      <td>40.719986</td>\n",
       "      <td>2</td>\n",
       "      <td>3.5</td>\n",
       "      <td>0.5</td>\n",
       "      <td>0.5</td>\n",
       "      <td>0.00</td>\n",
       "      <td>0.0</td>\n",
       "      <td>0.3</td>\n",
       "      <td>4.80</td>\n",
       "    </tr>\n",
       "    <tr>\n",
       "      <th>4</th>\n",
       "      <td>1</td>\n",
       "      <td>2015-01-10 20:33:39</td>\n",
       "      <td>2015-01-10 20:52:58</td>\n",
       "      <td>1</td>\n",
       "      <td>3.00</td>\n",
       "      <td>-73.971176</td>\n",
       "      <td>40.762428</td>\n",
       "      <td>1</td>\n",
       "      <td>N</td>\n",
       "      <td>-74.004181</td>\n",
       "      <td>40.742653</td>\n",
       "      <td>2</td>\n",
       "      <td>15.0</td>\n",
       "      <td>0.5</td>\n",
       "      <td>0.5</td>\n",
       "      <td>0.00</td>\n",
       "      <td>0.0</td>\n",
       "      <td>0.3</td>\n",
       "      <td>16.30</td>\n",
       "    </tr>\n",
       "  </tbody>\n",
       "</table>\n",
       "</div>"
      ],
      "text/plain": [
       "   VendorID tpep_pickup_datetime tpep_dropoff_datetime  passenger_count   \n",
       "0         2  2015-01-15 19:05:39   2015-01-15 19:23:42                1  \\\n",
       "1         1  2015-01-10 20:33:38   2015-01-10 20:53:28                1   \n",
       "2         1  2015-01-10 20:33:38   2015-01-10 20:43:41                1   \n",
       "3         1  2015-01-10 20:33:39   2015-01-10 20:35:31                1   \n",
       "4         1  2015-01-10 20:33:39   2015-01-10 20:52:58                1   \n",
       "\n",
       "   trip_distance  pickup_longitude  pickup_latitude  RateCodeID   \n",
       "0           1.59        -73.993896        40.750111           1  \\\n",
       "1           3.30        -74.001648        40.724243           1   \n",
       "2           1.80        -73.963341        40.802788           1   \n",
       "3           0.50        -74.009087        40.713818           1   \n",
       "4           3.00        -73.971176        40.762428           1   \n",
       "\n",
       "  store_and_fwd_flag  dropoff_longitude  dropoff_latitude  payment_type   \n",
       "0                  N         -73.974785         40.750618             1  \\\n",
       "1                  N         -73.994415         40.759109             1   \n",
       "2                  N         -73.951820         40.824413             2   \n",
       "3                  N         -74.004326         40.719986             2   \n",
       "4                  N         -74.004181         40.742653             2   \n",
       "\n",
       "   fare_amount  extra  mta_tax  tip_amount  tolls_amount   \n",
       "0         12.0    1.0      0.5        3.25           0.0  \\\n",
       "1         14.5    0.5      0.5        2.00           0.0   \n",
       "2          9.5    0.5      0.5        0.00           0.0   \n",
       "3          3.5    0.5      0.5        0.00           0.0   \n",
       "4         15.0    0.5      0.5        0.00           0.0   \n",
       "\n",
       "   improvement_surcharge  total_amount  \n",
       "0                    0.3         17.05  \n",
       "1                    0.3         17.80  \n",
       "2                    0.3         10.80  \n",
       "3                    0.3          4.80  \n",
       "4                    0.3         16.30  "
      ]
     },
     "execution_count": 22,
     "metadata": {},
     "output_type": "execute_result"
    }
   ],
   "source": [
    "df = pd.read_csv(os.path.join(LOCAL_ST, _blobs['csv']), sep ='\\t')\n",
    "\n",
    "print(df.shape)\n",
    "df.head()"
   ]
  },
  {
   "cell_type": "code",
   "execution_count": 167,
   "metadata": {},
   "outputs": [
    {
     "name": "stdout",
     "output_type": "stream",
     "text": [
      "['VendorID', 'tpep_pickup_datetime', 'tpep_dropoff_datetime', 'passenger_count', 'trip_distance', 'pickup_longitude', 'pickup_latitude', 'RateCodeID', 'store_and_fwd_flag', 'dropoff_longitude', 'dropoff_latitude', 'payment_type', 'fare_amount', 'extra', 'mta_tax', 'tip_amount', 'tolls_amount', 'improvement_surcharge', 'total_amount']\n"
     ]
    }
   ],
   "source": [
    "print(df.columns.tolist())"
   ]
  },
  {
   "attachments": {},
   "cell_type": "markdown",
   "metadata": {},
   "source": [
    "### geometry validity\n",
    "\n",
    "There are two types of geometry here: **pickup points** and **dropoff points**.\n",
    "\n",
    "Validation: \n",
    "* Points need to be in NYC (plot to verify)\n",
    "* Verify projection (gdf.crs). The only projection "
   ]
  },
  {
   "cell_type": "code",
   "execution_count": 168,
   "metadata": {},
   "outputs": [
    {
     "name": "stdout",
     "output_type": "stream",
     "text": [
      "{'pickup_longitude': {'min': -87.45187377929686, 'max': 0.0}, 'pickup_latitude': {'min': 0.0, 'max': 42.29415512084961}}\n",
      "{'dropoff_longitude': {'min': -86.73170471191406, 'max': 0.0}, 'dropoff_latitude': {'min': 0.0, 'max': 49.19465637207031}}\n"
     ]
    }
   ],
   "source": [
    "_cols_pickup = ['pickup_longitude', 'pickup_latitude']\n",
    "gdf_pickup = gpd.GeoDataFrame(\n",
    "    df[_cols_pickup] ,\n",
    "    geometry=gpd.points_from_xy(*df[_cols_pickup].values.T), \n",
    "    crs=CONFIG['CRS']\n",
    ")\n",
    "print(gdf_pickup.describe().loc[['min', 'max'], :].to_dict())\n",
    "\n",
    "_cols_dropoff = ['dropoff_longitude','dropoff_latitude']\n",
    "gdf_dropoff = gpd.GeoDataFrame(\n",
    "    df[_cols_dropoff] ,\n",
    "    geometry=gpd.points_from_xy(*df[_cols_dropoff].values.T), \n",
    "    crs=CONFIG['CRS']\n",
    ")\n",
    "print(gdf_dropoff.describe().loc[['min', 'max'], :].to_dict())"
   ]
  },
  {
   "attachments": {},
   "cell_type": "markdown",
   "metadata": {},
   "source": [
    "Hay ceros en la geometría y algunos valores incorrectos, por lo que filtramos por distribución."
   ]
  },
  {
   "cell_type": "code",
   "execution_count": 169,
   "metadata": {},
   "outputs": [],
   "source": [
    "def filter_by_quantiles(ser:pd.Series, quantile_values:tuple):\n",
    "    min_quantile = ser.quantile(quantile_values[0])\n",
    "    max_quantile = ser.quantile(quantile_values[1])\n",
    "    return ser[(ser>=min_quantile) & (ser<=max_quantile)].index\n",
    "\n",
    "iqr = (0.02, 0.98)\n",
    "\n",
    "for _col in _cols_pickup:\n",
    "    gdf_pickup = gdf_pickup.loc[filter_by_quantiles(gdf_pickup[_col], iqr), :]\n",
    "\n",
    "for _col in _cols_dropoff:\n",
    "    gdf_dropoff = gdf_dropoff.loc[filter_by_quantiles(gdf_dropoff[_col], iqr), :]\n",
    "\n",
    "correct_geom_indexes = list(set(gdf_dropoff.index).intersection(set(gdf_pickup.index)))\n",
    "\n",
    "gdf_pickup = gdf_pickup.loc[correct_geom_indexes, :].copy(deep=True)\n",
    "gdf_dropoff = gdf_dropoff.loc[correct_geom_indexes, :].copy(deep=True)"
   ]
  },
  {
   "cell_type": "code",
   "execution_count": 63,
   "metadata": {},
   "outputs": [],
   "source": [
    "# comprobación mediante visualización\n",
    "\n",
    "# ax = gdf_dropoff.plot(color = 'red', markersize = 1 )\n",
    "# cx.add_basemap(ax, crs=gdf_dropoff.crs.to_string())\n",
    "# plt.show()"
   ]
  },
  {
   "attachments": {},
   "cell_type": "markdown",
   "metadata": {},
   "source": [
    "Se filtra aprox el 13% de los datos"
   ]
  },
  {
   "cell_type": "code",
   "execution_count": 170,
   "metadata": {},
   "outputs": [
    {
     "data": {
      "text/plain": [
       "(436690, 19)"
      ]
     },
     "execution_count": 170,
     "metadata": {},
     "output_type": "execute_result"
    }
   ],
   "source": [
    "df = df.loc[correct_geom_indexes, :].copy(deep=True)\n",
    "df.shape"
   ]
  },
  {
   "attachments": {},
   "cell_type": "markdown",
   "metadata": {},
   "source": [
    "### datetime validity: \n",
    "\n",
    "Hay un tiempo de recogida y un tiempo de salida. \n",
    "\n",
    "Validación:\n",
    "* El tiempo de recogida tiene que ser anterior al de bajada\n",
    "* Los tiempos tienen que ser razonables (menos de 1 día)"
   ]
  },
  {
   "cell_type": "code",
   "execution_count": 171,
   "metadata": {},
   "outputs": [
    {
     "name": "stdout",
     "output_type": "stream",
     "text": [
      "['tpep_pickup_datetime', 'tpep_dropoff_datetime']\n"
     ]
    },
    {
     "data": {
      "text/plain": [
       "(436690, 19)"
      ]
     },
     "execution_count": 171,
     "metadata": {},
     "output_type": "execute_result"
    }
   ],
   "source": [
    "dte_cols = df.select_dtypes(include = 'object').columns[:2].to_list()\n",
    "print(dte_cols)\n",
    "\n",
    "dtformat = '%Y-%m-%d %H:%M:%S'\n",
    "\n",
    "for _col in dte_cols:\n",
    "    df[_col] = pd.to_datetime(df[_col], format = dtformat, errors = 'coerce')\n",
    "\n",
    "df.shape"
   ]
  },
  {
   "cell_type": "code",
   "execution_count": 172,
   "metadata": {},
   "outputs": [
    {
     "data": {
      "text/plain": [
       "(436658, 19)"
      ]
     },
     "execution_count": 172,
     "metadata": {},
     "output_type": "execute_result"
    }
   ],
   "source": [
    "_filter_condition = np.logical_and.reduce([\n",
    "    (df['tpep_dropoff_datetime'] - df['tpep_pickup_datetime']).dt.total_seconds() > 1,\n",
    "    (df['tpep_dropoff_datetime'] - df['tpep_pickup_datetime']).dt.days < 1\n",
    "])\n",
    "\n",
    "df = df[_filter_condition].copy(deep=True)\n",
    "df.shape\n"
   ]
  },
  {
   "attachments": {},
   "cell_type": "markdown",
   "metadata": {},
   "source": [
    "Se filtra un 100-99.99267 % "
   ]
  },
  {
   "attachments": {},
   "cell_type": "markdown",
   "metadata": {},
   "source": [
    "### ID validity \n",
    "\n",
    "Hay 3 columnas que son IDs o ordinales.\n",
    "\n",
    "Validación:\n",
    "* No deberían ser nan\n",
    "* Mapear en sus valores (ya que son taan cortos)"
   ]
  },
  {
   "cell_type": "code",
   "execution_count": 175,
   "metadata": {},
   "outputs": [
    {
     "data": {
      "text/plain": [
       "VendorID         0\n",
       "RateCodeID      11\n",
       "payment_type     0\n",
       "dtype: int64"
      ]
     },
     "execution_count": 175,
     "metadata": {},
     "output_type": "execute_result"
    }
   ],
   "source": [
    "_id_cols = ['VendorID', 'RateCodeID', 'payment_type']\n",
    "\n",
    "df['payment_type'] = df['payment_type'].map(PAYMENT_TYPE)\n",
    "df['VendorID'] = df['VendorID'].map(VENDORID)\n",
    "df['RateCodeID'] = df['RateCodeID'].map(RATECODEID)\n",
    "\n",
    "df[_id_cols].isna().sum()"
   ]
  },
  {
   "cell_type": "code",
   "execution_count": 176,
   "metadata": {},
   "outputs": [
    {
     "data": {
      "text/plain": [
       "(436647, 19)"
      ]
     },
     "execution_count": 176,
     "metadata": {},
     "output_type": "execute_result"
    }
   ],
   "source": [
    "df = df.dropna(axis = 0, how = 'any', subset = _id_cols).copy(deep=True)\n",
    "df.shape"
   ]
  },
  {
   "attachments": {},
   "cell_type": "markdown",
   "metadata": {},
   "source": [
    "### INT Validation\n",
    "\n",
    "Todas las columnas que son valores nmericos\n",
    "\n",
    "Validation:\n",
    "* Tienen que ser distinto de cero (tiene que haberse desplazado y pagar algo)\n",
    "* Tienen que ser distinto de nulo"
   ]
  },
  {
   "cell_type": "code",
   "execution_count": 177,
   "metadata": {},
   "outputs": [
    {
     "name": "stdout",
     "output_type": "stream",
     "text": [
      "{'passenger_count': 0, 'trip_distance': 0, 'fare_amount': 0, 'extra': 0, 'mta_tax': 0, 'tip_amount': 0, 'tolls_amount': 0, 'improvement_surcharge': 0, 'total_amount': 0}\n",
      "{'passenger_count': 225, 'trip_distance': 1506, 'fare_amount': 70, 'total_amount': 34}\n"
     ]
    }
   ],
   "source": [
    "_num_cols = df.select_dtypes(include=['integer', 'float']).columns.to_list()\n",
    "_num_cols = [_ for _ in _num_cols if not any(_.endswith(w) for w in ['latitude', 'longitude', 'ID'])]\n",
    "_num_cols_notzero = [_ for _ in _num_cols if not any(_.startswith(w) for w in ['tip', 'tolls', 'extra', 'improvement', 'mta'])]\n",
    "\n",
    "print(df[_num_cols].isna().sum().to_dict())\n",
    "print(df[_num_cols_notzero].mask(df == 0).isna().sum().to_dict())"
   ]
  },
  {
   "cell_type": "code",
   "execution_count": 179,
   "metadata": {},
   "outputs": [
    {
     "data": {
      "text/plain": [
       "(434892, 19)"
      ]
     },
     "execution_count": 179,
     "metadata": {},
     "output_type": "execute_result"
    }
   ],
   "source": [
    "df.loc[:, _num_cols_notzero] = df.loc[:, _num_cols_notzero].mask(df == 0)\n",
    "df = df.dropna(axis = 0, how = 'any', subset = _num_cols_notzero).copy(deep=True)\n",
    "df.shape"
   ]
  },
  {
   "attachments": {},
   "cell_type": "markdown",
   "metadata": {},
   "source": [
    "434892 desde 499999: se filtra un 13% de datos (que son incorrectos por alguna razón) "
   ]
  },
  {
   "attachments": {},
   "cell_type": "markdown",
   "metadata": {},
   "source": [
    "## Boolean\n",
    "\n",
    "Hay un campo booleano"
   ]
  },
  {
   "cell_type": "code",
   "execution_count": 182,
   "metadata": {},
   "outputs": [
    {
     "data": {
      "text/plain": [
       "store_and_fwd_flag\n",
       "N                     431227\n",
       "Y                       3665\n",
       "Name: count, dtype: int64"
      ]
     },
     "execution_count": 182,
     "metadata": {},
     "output_type": "execute_result"
    }
   ],
   "source": [
    "_bool_col = ['store_and_fwd_flag']\n",
    "df[_bool_col].value_counts()"
   ]
  },
  {
   "cell_type": "code",
   "execution_count": null,
   "metadata": {},
   "outputs": [],
   "source": [
    "text_to_bool = {\n",
    "    'Y' : True,\n",
    "    'N' : False\n",
    "}"
   ]
  }
 ],
 "metadata": {
  "kernelspec": {
   "display_name": "env",
   "language": "python",
   "name": "python3"
  },
  "language_info": {
   "codemirror_mode": {
    "name": "ipython",
    "version": 3
   },
   "file_extension": ".py",
   "mimetype": "text/x-python",
   "name": "python",
   "nbconvert_exporter": "python",
   "pygments_lexer": "ipython3",
   "version": "3.9.7"
  },
  "orig_nbformat": 4
 },
 "nbformat": 4,
 "nbformat_minor": 2
}
